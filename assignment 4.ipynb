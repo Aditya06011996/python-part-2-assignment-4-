{
 "cells": [
  {
   "cell_type": "markdown",
   "id": "b2c16f10-fa5a-47cc-a368-f38ffcb62364",
   "metadata": {},
   "source": [
    "Q 1 Create a python program to sort the given list of tuples based on integer value using a lambda function.\n",
    "[('sachin tendulkar',34357),('ricky pointing',27483),('jack kallis',25534),('virat kohli',24936)]"
   ]
  },
  {
   "cell_type": "code",
   "execution_count": 1,
   "id": "4f9d8f08-2871-42d5-a559-5577d99e79c1",
   "metadata": {},
   "outputs": [],
   "source": [
    "l = [('sachin tendulkar',34357),('ricky pointing',27483),('jack kallis',25534),('virat kohli',24936)]"
   ]
  },
  {
   "cell_type": "code",
   "execution_count": 6,
   "id": "5a9ec7e5-2683-49df-bcac-2bab243f4c85",
   "metadata": {},
   "outputs": [
    {
     "name": "stdout",
     "output_type": "stream",
     "text": [
      "[('virat kohli', 24936), ('jack kallis', 25534), ('ricky pointing', 27483), ('sachin tendulkar', 34357)]\n"
     ]
    }
   ],
   "source": [
    "l.sort(key = lambda x : x[1])\n",
    "print(l)"
   ]
  },
  {
   "cell_type": "markdown",
   "id": "c06c8d8c-3491-4d83-8980-3c6160ef9e12",
   "metadata": {},
   "source": [
    "Q 2 Write a python program to find the squares of all the numbers in the given list of intergers using lambda and map functions.[1,2,3,4,5,6,7,8,9,10]"
   ]
  },
  {
   "cell_type": "code",
   "execution_count": 7,
   "id": "2637716b-24d9-433f-a499-5ad868578969",
   "metadata": {},
   "outputs": [],
   "source": [
    "l = [1,2,3,4,5,6,7,8,9,10]"
   ]
  },
  {
   "cell_type": "code",
   "execution_count": 9,
   "id": "80d877fa-5118-45d8-a830-92834e482b6a",
   "metadata": {},
   "outputs": [
    {
     "data": {
      "text/plain": [
       "[1, 4, 9, 16, 25, 36, 49, 64, 81, 100]"
      ]
     },
     "execution_count": 9,
     "metadata": {},
     "output_type": "execute_result"
    }
   ],
   "source": [
    "list(map(lambda  x : x**2,l))"
   ]
  },
  {
   "cell_type": "markdown",
   "id": "1d78d585-e9e1-480b-be96-66bf46d71b9c",
   "metadata": {},
   "source": [
    "Q 3 Write a python program to convert the given list of integers into a tuple of strings. use map and lambda functions\n",
    "Given string : [1,2,3,4,5,6,7,8,9,10]\n",
    "Expected output : ('1','2','3','4','5','6','7','8','9','10')"
   ]
  },
  {
   "cell_type": "code",
   "execution_count": 11,
   "id": "c63584ab-f235-493c-8fe8-97d628f1c827",
   "metadata": {},
   "outputs": [],
   "source": [
    "l = [1,2,3,4,5,6,7,8,9,10]"
   ]
  },
  {
   "cell_type": "code",
   "execution_count": 28,
   "id": "49c827bc-5d9c-4158-a2d3-8907a6ed14f3",
   "metadata": {},
   "outputs": [
    {
     "data": {
      "text/plain": [
       "('1', '2', '3', '4', '5', '6', '7', '8', '9', '10')"
      ]
     },
     "execution_count": 28,
     "metadata": {},
     "output_type": "execute_result"
    }
   ],
   "source": [
    "tuple(map(lambda x : str(x) ,l))"
   ]
  },
  {
   "cell_type": "markdown",
   "id": "d18aa944-d576-4a75-857e-09e0f9ab90b2",
   "metadata": {},
   "source": [
    "Q 4 Write a python program using reduce function to compute the product of a list containing numbers from 1 to 25."
   ]
  },
  {
   "cell_type": "code",
   "execution_count": 30,
   "id": "1c2dfb6e-6676-42d8-ac73-66f37545e6b1",
   "metadata": {},
   "outputs": [],
   "source": [
    "from functools import reduce"
   ]
  },
  {
   "cell_type": "code",
   "execution_count": 31,
   "id": "c07bd1a4-c00d-4e66-9473-b05e6213ad6b",
   "metadata": {},
   "outputs": [],
   "source": [
    "l = [1,2,3,4,5,6,7,8,9,10,11,12,13,14,15,16,17,18,19,20,21,22,23,24,25]"
   ]
  },
  {
   "cell_type": "code",
   "execution_count": 32,
   "id": "73c8fc8f-ccfe-4ee7-be25-a6d242ed6c40",
   "metadata": {},
   "outputs": [
    {
     "data": {
      "text/plain": [
       "15511210043330985984000000"
      ]
     },
     "execution_count": 32,
     "metadata": {},
     "output_type": "execute_result"
    }
   ],
   "source": [
    "reduce(lambda x,y : x*y , l)"
   ]
  },
  {
   "cell_type": "markdown",
   "id": "a8e420a8-3b04-4171-b969-cdf11a978744",
   "metadata": {},
   "source": [
    "Q 5 Write a python program to filter the numbers in the given list that are divisible by 2 and 3 using the filter function.\n",
    "[2,3,6,9,27,60,90,120,55,46]"
   ]
  },
  {
   "cell_type": "code",
   "execution_count": 33,
   "id": "38f6de2b-f758-4ee7-a628-3fed9481c614",
   "metadata": {},
   "outputs": [],
   "source": [
    "l = [2,3,6,9,27,60,90,120,55,46]"
   ]
  },
  {
   "cell_type": "code",
   "execution_count": 50,
   "id": "a128e517-9d8c-4636-9e5b-389dac32faa9",
   "metadata": {},
   "outputs": [
    {
     "data": {
      "text/plain": [
       "[2, 3, 6, 9, 27, 60, 90, 120, 55, 46]"
      ]
     },
     "execution_count": 50,
     "metadata": {},
     "output_type": "execute_result"
    }
   ],
   "source": [
    "l"
   ]
  },
  {
   "cell_type": "code",
   "execution_count": 72,
   "id": "7f5fbecb-1838-4964-b061-27f89fdf6afe",
   "metadata": {},
   "outputs": [
    {
     "ename": "NameError",
     "evalue": "name 'y' is not defined",
     "output_type": "error",
     "traceback": [
      "\u001b[0;31m---------------------------------------------------------------------------\u001b[0m",
      "\u001b[0;31mNameError\u001b[0m                                 Traceback (most recent call last)",
      "Cell \u001b[0;32mIn[72], line 1\u001b[0m\n\u001b[0;32m----> 1\u001b[0m \u001b[38;5;28mlist\u001b[39m(\u001b[38;5;28mfilter\u001b[39m(\u001b[38;5;28;01mlambda\u001b[39;00m x,y : (x\u001b[38;5;241m/\u001b[39m\u001b[38;5;241m2\u001b[39m \u001b[38;5;241m==\u001b[39m \u001b[38;5;241m0\u001b[39m),(\u001b[43my\u001b[49m\u001b[38;5;241m/\u001b[39m\u001b[38;5;241m3\u001b[39m \u001b[38;5;241m==\u001b[39m \u001b[38;5;241m0\u001b[39m),l))\n",
      "\u001b[0;31mNameError\u001b[0m: name 'y' is not defined"
     ]
    }
   ],
   "source": [
    "list(filter(lambda x,y : (x/2 == 0),(y/3 == 0),l))"
   ]
  },
  {
   "cell_type": "markdown",
   "id": "e3221a7c-2457-46cf-9d3f-60511d5f4ad8",
   "metadata": {},
   "source": [
    "Q 6 Write a python program to find palindromes in the given list of strings using lambda and filter function.\n",
    "['python','php','aba','radar','level']"
   ]
  },
  {
   "cell_type": "code",
   "execution_count": 61,
   "id": "a5ba38ae-12c4-4734-8e83-9180ff2d5e4b",
   "metadata": {},
   "outputs": [],
   "source": [
    "l = ['python','php','aba','radar','level']"
   ]
  },
  {
   "cell_type": "code",
   "execution_count": 69,
   "id": "a7e502cc-4823-4ce2-8343-26af22b913f3",
   "metadata": {},
   "outputs": [
    {
     "data": {
      "text/plain": [
       "['php', 'aba', 'radar', 'level']"
      ]
     },
     "execution_count": 69,
     "metadata": {},
     "output_type": "execute_result"
    }
   ],
   "source": [
    "list(filter(lambda x : (x == \"\".join(reversed(x))),l))"
   ]
  }
 ],
 "metadata": {
  "kernelspec": {
   "display_name": "Python 3 (ipykernel)",
   "language": "python",
   "name": "python3"
  },
  "language_info": {
   "codemirror_mode": {
    "name": "ipython",
    "version": 3
   },
   "file_extension": ".py",
   "mimetype": "text/x-python",
   "name": "python",
   "nbconvert_exporter": "python",
   "pygments_lexer": "ipython3",
   "version": "3.10.8"
  }
 },
 "nbformat": 4,
 "nbformat_minor": 5
}
